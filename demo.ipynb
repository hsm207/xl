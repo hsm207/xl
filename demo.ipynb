{
 "cells": [
  {
   "cell_type": "markdown",
   "metadata": {
    "toc": true
   },
   "source": [
    "<h1>Table of Contents<span class=\"tocSkip\"></span></h1>\n",
    "<div class=\"toc\" style=\"margin-top: 1em;\"><ul class=\"toc-item\"><li><span><a href=\"#Libraries\" data-toc-modified-id=\"Libraries-1\"><span class=\"toc-item-num\">1&nbsp;&nbsp;</span>Libraries</a></span></li><li><span><a href=\"#Dataset\" data-toc-modified-id=\"Dataset-2\"><span class=\"toc-item-num\">2&nbsp;&nbsp;</span>Dataset</a></span></li><li><span><a href=\"#Modelling\" data-toc-modified-id=\"Modelling-3\"><span class=\"toc-item-num\">3&nbsp;&nbsp;</span>Modelling</a></span><ul class=\"toc-item\"><li><span><a href=\"#Hand-written-rules\" data-toc-modified-id=\"Hand-written-rules-3.1\"><span class=\"toc-item-num\">3.1&nbsp;&nbsp;</span>Hand-written rules</a></span></li><li><span><a href=\"#Neural-Network\" data-toc-modified-id=\"Neural-Network-3.2\"><span class=\"toc-item-num\">3.2&nbsp;&nbsp;</span>Neural Network</a></span><ul class=\"toc-item\"><li><span><a href=\"#Configure-the-neural-network\" data-toc-modified-id=\"Configure-the-neural-network-3.2.1\"><span class=\"toc-item-num\">3.2.1&nbsp;&nbsp;</span>Configure the neural network</a></span></li><li><span><a href=\"#Train-the-neural-network\" data-toc-modified-id=\"Train-the-neural-network-3.2.2\"><span class=\"toc-item-num\">3.2.2&nbsp;&nbsp;</span>Train the neural network</a></span></li></ul></li></ul></li><li><span><a href=\"#Notes\" data-toc-modified-id=\"Notes-4\"><span class=\"toc-item-num\">4&nbsp;&nbsp;</span>Notes</a></span><ul class=\"toc-item\"><li><span><a href=\"#How-to-optimize-the-loss-function\" data-toc-modified-id=\"How-to-optimize-the-loss-function-4.1\"><span class=\"toc-item-num\">4.1&nbsp;&nbsp;</span>How to optimize the loss function</a></span></li></ul></li></ul></div>"
   ]
  },
  {
   "cell_type": "markdown",
   "metadata": {},
   "source": [
    "# Libraries"
   ]
  },
  {
   "cell_type": "markdown",
   "metadata": {},
   "source": [
    "Import libraries:"
   ]
  },
  {
   "cell_type": "code",
   "execution_count": 1,
   "metadata": {},
   "outputs": [],
   "source": [
    "import tensorflow as tf\n",
    "\n",
    "from tensorflow.python.keras.layers import Dense\n",
    "from tensorflow.python.keras.losses import mean_squared_error\n",
    "\n",
    "import pandas as pd\n",
    "import numpy as np\n",
    "from functools import partial"
   ]
  },
  {
   "cell_type": "markdown",
   "metadata": {},
   "source": [
    "Enable interactive session:"
   ]
  },
  {
   "cell_type": "code",
   "execution_count": 2,
   "metadata": {},
   "outputs": [],
   "source": [
    "sess = tf.InteractiveSession()"
   ]
  },
  {
   "cell_type": "markdown",
   "metadata": {},
   "source": [
    "# Dataset"
   ]
  },
  {
   "cell_type": "markdown",
   "metadata": {},
   "source": [
    "Construct the XOR table:"
   ]
  },
  {
   "cell_type": "code",
   "execution_count": 3,
   "metadata": {},
   "outputs": [
    {
     "data": {
      "text/html": [
       "<div>\n",
       "<style scoped>\n",
       "    .dataframe tbody tr th:only-of-type {\n",
       "        vertical-align: middle;\n",
       "    }\n",
       "\n",
       "    .dataframe tbody tr th {\n",
       "        vertical-align: top;\n",
       "    }\n",
       "\n",
       "    .dataframe thead th {\n",
       "        text-align: right;\n",
       "    }\n",
       "</style>\n",
       "<table border=\"1\" class=\"dataframe\">\n",
       "  <thead>\n",
       "    <tr style=\"text-align: right;\">\n",
       "      <th></th>\n",
       "      <th>$x_1$</th>\n",
       "      <th>$x_2$</th>\n",
       "      <th>$y$</th>\n",
       "    </tr>\n",
       "  </thead>\n",
       "  <tbody>\n",
       "    <tr>\n",
       "      <th>0</th>\n",
       "      <td>0</td>\n",
       "      <td>0</td>\n",
       "      <td>0</td>\n",
       "    </tr>\n",
       "    <tr>\n",
       "      <th>1</th>\n",
       "      <td>0</td>\n",
       "      <td>1</td>\n",
       "      <td>1</td>\n",
       "    </tr>\n",
       "    <tr>\n",
       "      <th>2</th>\n",
       "      <td>1</td>\n",
       "      <td>0</td>\n",
       "      <td>1</td>\n",
       "    </tr>\n",
       "    <tr>\n",
       "      <th>3</th>\n",
       "      <td>1</td>\n",
       "      <td>1</td>\n",
       "      <td>0</td>\n",
       "    </tr>\n",
       "  </tbody>\n",
       "</table>\n",
       "</div>"
      ],
      "text/plain": [
       "   $x_1$  $x_2$  $y$\n",
       "0      0      0    0\n",
       "1      0      1    1\n",
       "2      1      0    1\n",
       "3      1      1    0"
      ]
     },
     "execution_count": 3,
     "metadata": {},
     "output_type": "execute_result"
    }
   ],
   "source": [
    "data_df = pd.DataFrame({'$x_1$': [0, 0, 1, 1],\n",
    "                        '$x_2$': [0, 1, 0, 1],\n",
    "                        '$y$':  [0, 1, 1, 0]})\n",
    "\n",
    "data_df"
   ]
  },
  {
   "cell_type": "markdown",
   "metadata": {},
   "source": [
    "The goal is to predict $y$ given $x_1$ and $x_2$."
   ]
  },
  {
   "cell_type": "markdown",
   "metadata": {},
   "source": [
    "# Modelling"
   ]
  },
  {
   "cell_type": "markdown",
   "metadata": {},
   "source": [
    "## Hand-written rules"
   ]
  },
  {
   "cell_type": "markdown",
   "metadata": {},
   "source": [
    "Create rules to encode desired outcome:"
   ]
  },
  {
   "cell_type": "code",
   "execution_count": 4,
   "metadata": {},
   "outputs": [],
   "source": [
    "def hand_written_classifier(x1, x2):\n",
    "    if (x1 == 0  and x2 == 0) or (x1 == 1 and x2 == 1):\n",
    "        return 0\n",
    "    else:\n",
    "        return 1"
   ]
  },
  {
   "cell_type": "markdown",
   "metadata": {},
   "source": [
    "Test the hand written rule:"
   ]
  },
  {
   "cell_type": "code",
   "execution_count": 5,
   "metadata": {},
   "outputs": [
    {
     "data": {
      "text/html": [
       "<div>\n",
       "<style scoped>\n",
       "    .dataframe tbody tr th:only-of-type {\n",
       "        vertical-align: middle;\n",
       "    }\n",
       "\n",
       "    .dataframe tbody tr th {\n",
       "        vertical-align: top;\n",
       "    }\n",
       "\n",
       "    .dataframe thead th {\n",
       "        text-align: right;\n",
       "    }\n",
       "</style>\n",
       "<table border=\"1\" class=\"dataframe\">\n",
       "  <thead>\n",
       "    <tr style=\"text-align: right;\">\n",
       "      <th></th>\n",
       "      <th>$x_1$</th>\n",
       "      <th>$x_2$</th>\n",
       "      <th>$y$</th>\n",
       "      <th>$\\hat{y}$</th>\n",
       "    </tr>\n",
       "  </thead>\n",
       "  <tbody>\n",
       "    <tr>\n",
       "      <th>0</th>\n",
       "      <td>0</td>\n",
       "      <td>0</td>\n",
       "      <td>0</td>\n",
       "      <td>0</td>\n",
       "    </tr>\n",
       "    <tr>\n",
       "      <th>1</th>\n",
       "      <td>0</td>\n",
       "      <td>1</td>\n",
       "      <td>1</td>\n",
       "      <td>1</td>\n",
       "    </tr>\n",
       "    <tr>\n",
       "      <th>2</th>\n",
       "      <td>1</td>\n",
       "      <td>0</td>\n",
       "      <td>1</td>\n",
       "      <td>1</td>\n",
       "    </tr>\n",
       "    <tr>\n",
       "      <th>3</th>\n",
       "      <td>1</td>\n",
       "      <td>1</td>\n",
       "      <td>0</td>\n",
       "      <td>0</td>\n",
       "    </tr>\n",
       "  </tbody>\n",
       "</table>\n",
       "</div>"
      ],
      "text/plain": [
       "   $x_1$  $x_2$  $y$  $\\hat{y}$\n",
       "0      0      0    0          0\n",
       "1      0      1    1          1\n",
       "2      1      0    1          1\n",
       "3      1      1    0          0"
      ]
     },
     "execution_count": 5,
     "metadata": {},
     "output_type": "execute_result"
    }
   ],
   "source": [
    "data_df['$\\hat{y}$'] = data_df[['$x_1$', '$x_2$']].apply(lambda r: hand_written_classifier(r[0], r[1]), axis=1)\n",
    "data_df"
   ]
  },
  {
   "cell_type": "markdown",
   "metadata": {},
   "source": [
    "## Neural Network"
   ]
  },
  {
   "cell_type": "markdown",
   "metadata": {},
   "source": [
    "### Configure the neural network"
   ]
  },
  {
   "cell_type": "markdown",
   "metadata": {},
   "source": [
    "Specify the inputs, $X$ and output, $Y$:"
   ]
  },
  {
   "cell_type": "code",
   "execution_count": 6,
   "metadata": {},
   "outputs": [],
   "source": [
    "data_matrix = tf.constant(data_df.iloc[:, :3].as_matrix(), tf.float32)\n",
    "data_matrix = tf.expand_dims(data_matrix, axis=0)\n",
    "\n",
    "x = data_matrix[:, :, :2]\n",
    "y = data_matrix[:, :, 2, tf.newaxis]"
   ]
  },
  {
   "cell_type": "markdown",
   "metadata": {},
   "source": [
    "The inputs will be passed to a hidden layer with 3 nodes:"
   ]
  },
  {
   "cell_type": "code",
   "execution_count": 7,
   "metadata": {},
   "outputs": [],
   "source": [
    "h1 = Dense(3, activation = 'sigmoid')(x)"
   ]
  },
  {
   "cell_type": "markdown",
   "metadata": {},
   "source": [
    "The results from the hidden layer will be passed to the output layer, which consists of only 1 node (the prediction, $\\hat{y}$):"
   ]
  },
  {
   "cell_type": "code",
   "execution_count": 8,
   "metadata": {},
   "outputs": [],
   "source": [
    "y_hat = Dense(1, activation='sigmoid')(h1)"
   ]
  },
  {
   "cell_type": "markdown",
   "metadata": {},
   "source": [
    "Specify a loss function (mean squared error):"
   ]
  },
  {
   "cell_type": "code",
   "execution_count": 9,
   "metadata": {},
   "outputs": [],
   "source": [
    "loss = tf.losses.mean_squared_error(y, y_hat)"
   ]
  },
  {
   "cell_type": "markdown",
   "metadata": {},
   "source": [
    "Define the training step (how to optimize the loss function):"
   ]
  },
  {
   "cell_type": "code",
   "execution_count": 10,
   "metadata": {},
   "outputs": [],
   "source": [
    "train_step = tf.train.AdamOptimizer().minimize(loss)"
   ]
  },
  {
   "cell_type": "markdown",
   "metadata": {},
   "source": [
    "### Train the neural network"
   ]
  },
  {
   "cell_type": "markdown",
   "metadata": {},
   "source": [
    "Do some TensorFlow specific stuff:"
   ]
  },
  {
   "cell_type": "code",
   "execution_count": 11,
   "metadata": {},
   "outputs": [],
   "source": [
    "init = tf.global_variables_initializer()\n",
    "sess.run(init)"
   ]
  },
  {
   "cell_type": "markdown",
   "metadata": {},
   "source": [
    "Let's look at the model's loss and predictions before training:"
   ]
  },
  {
   "cell_type": "code",
   "execution_count": 12,
   "metadata": {},
   "outputs": [
    {
     "name": "stdout",
     "output_type": "stream",
     "text": [
      "loss\t\t\t:0.30564791\n",
      "predictions (raw)\t:[ 0.79264569  0.73112535  0.72314888  0.66735625]\n",
      "predictions (rounded)\t:[ 1.  1.  1.  1.]\n"
     ]
    }
   ],
   "source": [
    "print(f'loss\\t\\t\\t:{loss.eval():.8f}')\n",
    "print(f'predictions (raw)\\t:{tf.squeeze(y_hat).eval()}')\n",
    "print(f'predictions (rounded)\\t:{np.round(tf.squeeze(y_hat).eval())}')"
   ]
  },
  {
   "cell_type": "markdown",
   "metadata": {},
   "source": [
    "Let's see how training the network for 10,000 iterations affects the loss and predcitions:"
   ]
  },
  {
   "cell_type": "code",
   "execution_count": 14,
   "metadata": {},
   "outputs": [
    {
     "name": "stdout",
     "output_type": "stream",
     "text": [
      "loss\t\t\t:0.00001505\n",
      "predictions (raw)\t:[ 0.00410306  0.99480224  0.998546    0.00377528]\n",
      "predictions (rounded)\t:[ 0.  1.  1.  0.]\n"
     ]
    }
   ],
   "source": [
    "for _ in range(10000):\n",
    "    train_step.run()\n",
    "\n",
    "print(f'loss\\t\\t\\t:{loss.eval():.8f}')\n",
    "print(f'predictions (raw)\\t:{tf.squeeze(y_hat).eval()}')\n",
    "print(f'predictions (rounded)\\t:{np.round(tf.squeeze(y_hat).eval())}')"
   ]
  },
  {
   "cell_type": "markdown",
   "metadata": {},
   "source": [
    "# Notes"
   ]
  },
  {
   "cell_type": "markdown",
   "metadata": {},
   "source": [
    "## How to optimize the loss function"
   ]
  },
  {
   "cell_type": "markdown",
   "metadata": {},
   "source": [
    "Enable eager execution (need to restart the notebook):"
   ]
  },
  {
   "cell_type": "code",
   "execution_count": 1,
   "metadata": {},
   "outputs": [],
   "source": [
    "import tensorflow as tf\n",
    "import tensorflow.contrib.eager as tfe\n",
    "tfe.enable_eager_execution()"
   ]
  },
  {
   "cell_type": "markdown",
   "metadata": {},
   "source": [
    "Let $x=2$ and $y=11$.\n",
    "\n",
    "Suppose we want to find $w$ such that $$11 = 2\\, w + 1$$\n",
    "\n",
    "Note that the solution is $w=5$.\n",
    "\n",
    "Express this problem in Python:"
   ]
  },
  {
   "cell_type": "code",
   "execution_count": 2,
   "metadata": {},
   "outputs": [],
   "source": [
    "def model_prediction(w):\n",
    "    return w * 2 + 1\n",
    "\n",
    "def loss(w):\n",
    "    return (11 - model_prediction(w))**2\n",
    "    "
   ]
  },
  {
   "cell_type": "markdown",
   "metadata": {},
   "source": [
    "Let's say we randomly assign to $w$ the value of 0.1:"
   ]
  },
  {
   "cell_type": "code",
   "execution_count": 3,
   "metadata": {},
   "outputs": [
    {
     "data": {
      "text/plain": [
       "0.1"
      ]
     },
     "execution_count": 3,
     "metadata": {},
     "output_type": "execute_result"
    }
   ],
   "source": [
    "w = 0.1\n",
    "w"
   ]
  },
  {
   "cell_type": "code",
   "execution_count": 4,
   "metadata": {},
   "outputs": [
    {
     "data": {
      "text/plain": [
       "96.04000000000002"
      ]
     },
     "execution_count": 4,
     "metadata": {},
     "output_type": "execute_result"
    }
   ],
   "source": [
    "loss(w)"
   ]
  },
  {
   "cell_type": "markdown",
   "metadata": {},
   "source": [
    "How much would the loss change if we change $w$ by a very small amount?"
   ]
  },
  {
   "cell_type": "code",
   "execution_count": 5,
   "metadata": {},
   "outputs": [
    {
     "name": "stdout",
     "output_type": "stream",
     "text": [
      "-39.2\n"
     ]
    }
   ],
   "source": [
    "loss_val, gradients = tfe.value_and_gradients_function(loss)(w)\n",
    "grad_w = gradients[0]\n",
    "print(grad_w.numpy())"
   ]
  },
  {
   "cell_type": "markdown",
   "metadata": {},
   "source": [
    "Hint:\n",
    "\n",
    "<img src='images/optimization_hint.jpg'>"
   ]
  },
  {
   "cell_type": "markdown",
   "metadata": {},
   "source": [
    "Define a function to update $w$ based on its gradient:"
   ]
  },
  {
   "cell_type": "code",
   "execution_count": 6,
   "metadata": {},
   "outputs": [],
   "source": [
    "def update_w(w, grad_w):\n",
    "    return w - 0.001 * grad_w"
   ]
  },
  {
   "cell_type": "markdown",
   "metadata": {},
   "source": [
    "So, the new value of $w$ is:"
   ]
  },
  {
   "cell_type": "code",
   "execution_count": 7,
   "metadata": {},
   "outputs": [
    {
     "data": {
      "text/plain": [
       "0.1392"
      ]
     },
     "execution_count": 7,
     "metadata": {},
     "output_type": "execute_result"
    }
   ],
   "source": [
    "w = update_w(w, grad_w).numpy()\n",
    "w"
   ]
  },
  {
   "cell_type": "markdown",
   "metadata": {},
   "source": [
    "The value of the loss with this new $w$ is:"
   ]
  },
  {
   "cell_type": "code",
   "execution_count": 8,
   "metadata": {},
   "outputs": [
    {
     "data": {
      "text/plain": [
       "94.509506483975827"
      ]
     },
     "execution_count": 8,
     "metadata": {},
     "output_type": "execute_result"
    }
   ],
   "source": [
    "loss(w)"
   ]
  },
  {
   "cell_type": "markdown",
   "metadata": {},
   "source": [
    "If we repeat this process many times, we will eventually arrive at $w=5$:"
   ]
  },
  {
   "cell_type": "code",
   "execution_count": 9,
   "metadata": {},
   "outputs": [
    {
     "name": "stdout",
     "output_type": "stream",
     "text": [
      "Value of w after    0 iterations: 0.1781\n",
      "\n",
      "Value of w after  100 iterations: 2.8403\n",
      "\n",
      "Value of w after  200 iterations: 4.0327\n",
      "\n",
      "Value of w after  300 iterations: 4.5668\n",
      "\n",
      "Value of w after  400 iterations: 4.8060\n",
      "\n",
      "Value of w after  500 iterations: 4.9131\n",
      "\n",
      "Value of w after  600 iterations: 4.9611\n",
      "\n",
      "Value of w after  700 iterations: 4.9826\n",
      "\n",
      "Value of w after  800 iterations: 4.9922\n",
      "\n",
      "Value of w after  900 iterations: 4.9965\n",
      "\n",
      "Value of w after 1000 iterations: 4.9984\n",
      "\n",
      "Value of w after 1100 iterations: 4.9993\n",
      "\n",
      "Value of w after 1200 iterations: 4.9997\n",
      "\n",
      "Value of w after 1300 iterations: 4.9999\n",
      "\n",
      "Value of w after 1400 iterations: 4.9999\n",
      "\n",
      "Value of w after 1500 iterations: 5.0000\n",
      "\n"
     ]
    }
   ],
   "source": [
    "for i in range(0, 1501):\n",
    "    grad_w = tfe.gradients_function(loss)(w)[0]\n",
    "    w = update_w(w, grad_w)\n",
    "    \n",
    "    if i % 100 == 0:\n",
    "        print(f'Value of w after {i:>4} iterations: {w:.4f}\\n')"
   ]
  },
  {
   "cell_type": "code",
   "execution_count": null,
   "metadata": {},
   "outputs": [],
   "source": []
  }
 ],
 "metadata": {
  "kernelspec": {
   "display_name": "Python 3",
   "language": "python",
   "name": "python3"
  },
  "language_info": {
   "codemirror_mode": {
    "name": "ipython",
    "version": 3
   },
   "file_extension": ".py",
   "mimetype": "text/x-python",
   "name": "python",
   "nbconvert_exporter": "python",
   "pygments_lexer": "ipython3",
   "version": "3.6.3"
  },
  "toc": {
   "nav_menu": {},
   "number_sections": true,
   "sideBar": true,
   "skip_h1_title": false,
   "toc_cell": true,
   "toc_position": {},
   "toc_section_display": "block",
   "toc_window_display": true
  }
 },
 "nbformat": 4,
 "nbformat_minor": 2
}
